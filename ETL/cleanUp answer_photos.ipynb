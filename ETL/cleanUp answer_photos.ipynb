{
 "metadata": {
  "language_info": {
   "codemirror_mode": {
    "name": "ipython",
    "version": 3
   },
   "file_extension": ".py",
   "mimetype": "text/x-python",
   "name": "python",
   "nbconvert_exporter": "python",
   "pygments_lexer": "ipython3",
   "version": "3.8.2"
  },
  "orig_nbformat": 2,
  "kernelspec": {
   "name": "python3",
   "display_name": "Python 3.8.2 64-bit",
   "metadata": {
    "interpreter": {
     "hash": "31f2aee4e71d21fbe5cf8b01ff0e069b9275f58929596ceb00d14d90e3e16cd6"
    }
   }
  }
 },
 "nbformat": 4,
 "nbformat_minor": 2,
 "cells": [
  {
   "cell_type": "code",
   "execution_count": 3,
   "metadata": {},
   "outputs": [],
   "source": [
    "import pandas as pd"
   ]
  },
  {
   "cell_type": "code",
   "execution_count": 4,
   "metadata": {},
   "outputs": [],
   "source": [
    "photos = pd.read_csv('answers_photos.csv')"
   ]
  },
  {
   "cell_type": "code",
   "execution_count": 25,
   "metadata": {},
   "outputs": [],
   "source": [
    "col1 = pd.DataFrame(photos['answer_id'])"
   ]
  },
  {
   "cell_type": "code",
   "execution_count": 33,
   "metadata": {},
   "outputs": [],
   "source": [
    "col1 = col1.rename(columns={'answer_id': 'id'})"
   ]
  },
  {
   "cell_type": "code",
   "execution_count": 68,
   "metadata": {},
   "outputs": [],
   "source": [
    "answers = pd.read_csv('answers_cleaned.csv')"
   ]
  },
  {
   "cell_type": "code",
   "execution_count": 26,
   "metadata": {},
   "outputs": [],
   "source": [
    "col2 = pd.DataFrame(answers['id'])"
   ]
  },
  {
   "cell_type": "code",
   "execution_count": 34,
   "metadata": {},
   "outputs": [
    {
     "output_type": "execute_result",
     "data": {
      "text/plain": [
       "              id\n",
       "0              5\n",
       "1              5\n",
       "2              5\n",
       "3              9\n",
       "4              9\n",
       "...          ...\n",
       "1048567  3499412\n",
       "1048568  3499429\n",
       "1048569  3499431\n",
       "1048570  3499432\n",
       "1048571  3499433\n",
       "\n",
       "[1048572 rows x 1 columns]"
      ],
      "text/html": "<div>\n<style scoped>\n    .dataframe tbody tr th:only-of-type {\n        vertical-align: middle;\n    }\n\n    .dataframe tbody tr th {\n        vertical-align: top;\n    }\n\n    .dataframe thead th {\n        text-align: right;\n    }\n</style>\n<table border=\"1\" class=\"dataframe\">\n  <thead>\n    <tr style=\"text-align: right;\">\n      <th></th>\n      <th>id</th>\n    </tr>\n  </thead>\n  <tbody>\n    <tr>\n      <th>0</th>\n      <td>5</td>\n    </tr>\n    <tr>\n      <th>1</th>\n      <td>5</td>\n    </tr>\n    <tr>\n      <th>2</th>\n      <td>5</td>\n    </tr>\n    <tr>\n      <th>3</th>\n      <td>9</td>\n    </tr>\n    <tr>\n      <th>4</th>\n      <td>9</td>\n    </tr>\n    <tr>\n      <th>...</th>\n      <td>...</td>\n    </tr>\n    <tr>\n      <th>1048567</th>\n      <td>3499412</td>\n    </tr>\n    <tr>\n      <th>1048568</th>\n      <td>3499429</td>\n    </tr>\n    <tr>\n      <th>1048569</th>\n      <td>3499431</td>\n    </tr>\n    <tr>\n      <th>1048570</th>\n      <td>3499432</td>\n    </tr>\n    <tr>\n      <th>1048571</th>\n      <td>3499433</td>\n    </tr>\n  </tbody>\n</table>\n<p>1048572 rows × 1 columns</p>\n</div>"
     },
     "metadata": {},
     "execution_count": 34
    }
   ],
   "source": [
    "col1"
   ]
  },
  {
   "cell_type": "code",
   "execution_count": 36,
   "metadata": {},
   "outputs": [],
   "source": [
    "merged = col1.merge(col2, how='left', indicator=True)"
   ]
  },
  {
   "cell_type": "code",
   "execution_count": 69,
   "metadata": {},
   "outputs": [],
   "source": [
    "merged2 = pd.DataFrame(photos).merge(pd.DataFrame(answers), left_on='answer_id', right_on='id', indicator=True)"
   ]
  },
  {
   "cell_type": "code",
   "execution_count": 71,
   "metadata": {},
   "outputs": [],
   "source": [
    "merged2 = merged2.loc[merged2['_merge']=='both']"
   ]
  },
  {
   "cell_type": "code",
   "execution_count": 72,
   "metadata": {},
   "outputs": [
    {
     "output_type": "execute_result",
     "data": {
      "text/plain": [
       "          id_x  answer_id                                                url  \\\n",
       "0            1          5  https://images.unsplash.com/photo-153051972949...   \n",
       "1            2          5  https://images.unsplash.com/photo-151112708825...   \n",
       "2            3          5  https://images.unsplash.com/photo-150060372022...   \n",
       "3            4          9  https://images.unsplash.com/photo-146314321763...   \n",
       "4            5          9  https://images.unsplash.com/photo-142178079148...   \n",
       "...        ...        ...                                                ...   \n",
       "313573  313638    1048550  https://images.unsplash.com/photo-151353192634...   \n",
       "313574  313639    1048555  https://images.unsplash.com/photo-150314669589...   \n",
       "313575  313640    1048557  https://images.unsplash.com/photo-150792067666...   \n",
       "313576  313641    1048563  https://images.unsplash.com/photo-1548133464-2...   \n",
       "313577  313642    1048567  https://images.unsplash.com/photo-144852647832...   \n",
       "\n",
       "           id_y  question_id  \\\n",
       "0             5            1   \n",
       "1             5            1   \n",
       "2             5            1   \n",
       "3             9           28   \n",
       "4             9           28   \n",
       "...         ...          ...   \n",
       "313573  1048550       298002   \n",
       "313574  1048555       298003   \n",
       "313575  1048557       298003   \n",
       "313576  1048563       298005   \n",
       "313577  1048567       298005   \n",
       "\n",
       "                                                     body date_written  \\\n",
       "0               Something pretty soft but I can't be sure       1/4/18   \n",
       "1               Something pretty soft but I can't be sure       1/4/18   \n",
       "2               Something pretty soft but I can't be sure       1/4/18   \n",
       "3                            Only if you want to ruin it!      1/17/19   \n",
       "4                            Only if you want to ruin it!      1/17/19   \n",
       "...                                                   ...          ...   \n",
       "313573       Sint quod quas nesciunt in saepe et dolorem.      5/17/19   \n",
       "313574      Rerum omnis aliquam est quidem veritatis aut.     11/26/18   \n",
       "313575                  Vero cum impedit aut praesentium.       9/1/18   \n",
       "313576  Maxime rerum amet sit laboriosam aliquid exped...      9/20/18   \n",
       "313577  Dolorum minus harum atque veniam voluptatibus ...       9/6/18   \n",
       "\n",
       "          answerer_name               answerer_email  reported  helpful _merge  \n",
       "0             metslover         first.last@gmail.com         0        5   both  \n",
       "1             metslover         first.last@gmail.com         0        5   both  \n",
       "2             metslover         first.last@gmail.com         0        5   both  \n",
       "3               warmkid           first.last@cbs.com         1        9   both  \n",
       "4               warmkid           first.last@cbs.com         1        9   both  \n",
       "...                 ...                          ...       ...      ...    ...  \n",
       "313573           Bret58           Unique28@gmail.com         0        4   both  \n",
       "313574          Maxie42  Eleanore_Barton52@yahoo.com         0        5   both  \n",
       "313575  Isidro.Gottlieb            Sadye45@gmail.com         0        3   both  \n",
       "313576            Eden1            Macey45@yahoo.com         0       14   both  \n",
       "313577          Raoul14  Gilberto.Hansen87@yahoo.com         0       13   both  \n",
       "\n",
       "[313578 rows x 12 columns]"
      ],
      "text/html": "<div>\n<style scoped>\n    .dataframe tbody tr th:only-of-type {\n        vertical-align: middle;\n    }\n\n    .dataframe tbody tr th {\n        vertical-align: top;\n    }\n\n    .dataframe thead th {\n        text-align: right;\n    }\n</style>\n<table border=\"1\" class=\"dataframe\">\n  <thead>\n    <tr style=\"text-align: right;\">\n      <th></th>\n      <th>id_x</th>\n      <th>answer_id</th>\n      <th>url</th>\n      <th>id_y</th>\n      <th>question_id</th>\n      <th>body</th>\n      <th>date_written</th>\n      <th>answerer_name</th>\n      <th>answerer_email</th>\n      <th>reported</th>\n      <th>helpful</th>\n      <th>_merge</th>\n    </tr>\n  </thead>\n  <tbody>\n    <tr>\n      <th>0</th>\n      <td>1</td>\n      <td>5</td>\n      <td>https://images.unsplash.com/photo-153051972949...</td>\n      <td>5</td>\n      <td>1</td>\n      <td>Something pretty soft but I can't be sure</td>\n      <td>1/4/18</td>\n      <td>metslover</td>\n      <td>first.last@gmail.com</td>\n      <td>0</td>\n      <td>5</td>\n      <td>both</td>\n    </tr>\n    <tr>\n      <th>1</th>\n      <td>2</td>\n      <td>5</td>\n      <td>https://images.unsplash.com/photo-151112708825...</td>\n      <td>5</td>\n      <td>1</td>\n      <td>Something pretty soft but I can't be sure</td>\n      <td>1/4/18</td>\n      <td>metslover</td>\n      <td>first.last@gmail.com</td>\n      <td>0</td>\n      <td>5</td>\n      <td>both</td>\n    </tr>\n    <tr>\n      <th>2</th>\n      <td>3</td>\n      <td>5</td>\n      <td>https://images.unsplash.com/photo-150060372022...</td>\n      <td>5</td>\n      <td>1</td>\n      <td>Something pretty soft but I can't be sure</td>\n      <td>1/4/18</td>\n      <td>metslover</td>\n      <td>first.last@gmail.com</td>\n      <td>0</td>\n      <td>5</td>\n      <td>both</td>\n    </tr>\n    <tr>\n      <th>3</th>\n      <td>4</td>\n      <td>9</td>\n      <td>https://images.unsplash.com/photo-146314321763...</td>\n      <td>9</td>\n      <td>28</td>\n      <td>Only if you want to ruin it!</td>\n      <td>1/17/19</td>\n      <td>warmkid</td>\n      <td>first.last@cbs.com</td>\n      <td>1</td>\n      <td>9</td>\n      <td>both</td>\n    </tr>\n    <tr>\n      <th>4</th>\n      <td>5</td>\n      <td>9</td>\n      <td>https://images.unsplash.com/photo-142178079148...</td>\n      <td>9</td>\n      <td>28</td>\n      <td>Only if you want to ruin it!</td>\n      <td>1/17/19</td>\n      <td>warmkid</td>\n      <td>first.last@cbs.com</td>\n      <td>1</td>\n      <td>9</td>\n      <td>both</td>\n    </tr>\n    <tr>\n      <th>...</th>\n      <td>...</td>\n      <td>...</td>\n      <td>...</td>\n      <td>...</td>\n      <td>...</td>\n      <td>...</td>\n      <td>...</td>\n      <td>...</td>\n      <td>...</td>\n      <td>...</td>\n      <td>...</td>\n      <td>...</td>\n    </tr>\n    <tr>\n      <th>313573</th>\n      <td>313638</td>\n      <td>1048550</td>\n      <td>https://images.unsplash.com/photo-151353192634...</td>\n      <td>1048550</td>\n      <td>298002</td>\n      <td>Sint quod quas nesciunt in saepe et dolorem.</td>\n      <td>5/17/19</td>\n      <td>Bret58</td>\n      <td>Unique28@gmail.com</td>\n      <td>0</td>\n      <td>4</td>\n      <td>both</td>\n    </tr>\n    <tr>\n      <th>313574</th>\n      <td>313639</td>\n      <td>1048555</td>\n      <td>https://images.unsplash.com/photo-150314669589...</td>\n      <td>1048555</td>\n      <td>298003</td>\n      <td>Rerum omnis aliquam est quidem veritatis aut.</td>\n      <td>11/26/18</td>\n      <td>Maxie42</td>\n      <td>Eleanore_Barton52@yahoo.com</td>\n      <td>0</td>\n      <td>5</td>\n      <td>both</td>\n    </tr>\n    <tr>\n      <th>313575</th>\n      <td>313640</td>\n      <td>1048557</td>\n      <td>https://images.unsplash.com/photo-150792067666...</td>\n      <td>1048557</td>\n      <td>298003</td>\n      <td>Vero cum impedit aut praesentium.</td>\n      <td>9/1/18</td>\n      <td>Isidro.Gottlieb</td>\n      <td>Sadye45@gmail.com</td>\n      <td>0</td>\n      <td>3</td>\n      <td>both</td>\n    </tr>\n    <tr>\n      <th>313576</th>\n      <td>313641</td>\n      <td>1048563</td>\n      <td>https://images.unsplash.com/photo-1548133464-2...</td>\n      <td>1048563</td>\n      <td>298005</td>\n      <td>Maxime rerum amet sit laboriosam aliquid exped...</td>\n      <td>9/20/18</td>\n      <td>Eden1</td>\n      <td>Macey45@yahoo.com</td>\n      <td>0</td>\n      <td>14</td>\n      <td>both</td>\n    </tr>\n    <tr>\n      <th>313577</th>\n      <td>313642</td>\n      <td>1048567</td>\n      <td>https://images.unsplash.com/photo-144852647832...</td>\n      <td>1048567</td>\n      <td>298005</td>\n      <td>Dolorum minus harum atque veniam voluptatibus ...</td>\n      <td>9/6/18</td>\n      <td>Raoul14</td>\n      <td>Gilberto.Hansen87@yahoo.com</td>\n      <td>0</td>\n      <td>13</td>\n      <td>both</td>\n    </tr>\n  </tbody>\n</table>\n<p>313578 rows × 12 columns</p>\n</div>"
     },
     "metadata": {},
     "execution_count": 72
    }
   ],
   "source": [
    "merged2"
   ]
  },
  {
   "cell_type": "code",
   "execution_count": 75,
   "metadata": {},
   "outputs": [],
   "source": [
    "cleanedPhotos = merged2.drop(columns=['id_y', 'question_id', 'body', 'date_written', 'answerer_name', 'answerer_email', 'reported', 'helpful', '_merge'])"
   ]
  },
  {
   "cell_type": "code",
   "execution_count": 79,
   "metadata": {},
   "outputs": [],
   "source": [
    "cleanedPhotos = cleanedPhotos.rename(columns={'id_x': 'id'})"
   ]
  },
  {
   "cell_type": "code",
   "execution_count": 81,
   "metadata": {},
   "outputs": [],
   "source": [
    "cleanedPhotos.to_csv('answer_photos_cleaned.csv')"
   ]
  },
  {
   "cell_type": "code",
   "execution_count": null,
   "metadata": {},
   "outputs": [],
   "source": []
  }
 ]
}